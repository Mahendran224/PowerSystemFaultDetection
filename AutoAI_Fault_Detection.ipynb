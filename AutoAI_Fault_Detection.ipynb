
{
 "cells": [
  {
   "cell_type": "markdown",
   "metadata": {},
   "source": [
    "# ⚡ Power System Fault Detection using AutoAI - IBM watsonx.ai"
   ]
  },
  {
   "cell_type": "code",
   "execution_count": null,
   "metadata": {},
   "outputs": [],
   "source": [
    "# ✅ Install required libraries\n",
    "!pip install ibm-watson-machine-learning -q"
   ]
  },
  {
   "cell_type": "code",
   "execution_count": null,
   "metadata": {},
   "outputs": [],
   "source": [
    "# 🔐 API Credentials\n",
    "from ibm_watson_machine_learning import APIClient\n",
    "\n",
    "API_KEY = 'wa0L9UzDEOWC9eofh3uJiXjaH1rGW35pJssSlsCXT3uI'\n",
    "wml_credentials = {\n",
    "    "url": "https://au-syd.ml.cloud.ibm.com",\n",
    "    "apikey": API_KEY\n",
    "}\n",
    "client = APIClient(wml_credentials)"
   ]
  },
  {
   "cell_type": "code",
   "execution_count": null,
   "metadata": {},
   "outputs": [],
   "source": [
    "# 🚀 Set Deployment Space\n",
    "space_id = '<REPLACE_WITH_YOUR_SPACE_ID>'  # Replace this\n",
    "client.set.default_space(space_id)"
   ]
  },
  {
   "cell_type": "code",
   "execution_count": null,
   "metadata": {},
   "outputs": [],
   "source": [
    "# 📥 Load Dataset\n",
    "import pandas as pd\n",
    "df = pd.read_csv('fault_data.csv')\n",
    "df.head()"
   ]
  },
  {
   "cell_type": "code",
   "execution_count": null,
   "metadata": {},
   "outputs": [],
   "source": [
    "# 🧠 Payload Preparation\n",
    "fields = df.drop(columns=['Voltage (V)']).columns.tolist()\n",
    "values = df.drop(columns=['Voltage (V)']).values.tolist()\n",
    "\n",
    "payload = {\n",
    "  "input_data": [\n",
    "    {\n",
    "      "fields": fields,\n",
    "      "values": values\n",
    "    }\n",
    "  ]\n",
    "}"
   ]
  },
  {
   "cell_type": "code",
   "execution_count": null,
   "metadata": {},
   "outputs": [],
   "source": [
    "# 🤖 Make Prediction\n",
    "deployment_id = '3d53890b-68f0-4d02-a1bf-2699b6db7791'\n",
    "predictions = client.deployments.score(deployment_id, payload)\n",
    "predictions"
   ]
  }
 ],
 "metadata": {
  "kernelspec": {
   "display_name": "Python 3",
   "language": "python",
   "name": "python3"
  },
  "language_info": {
   "name": "python",
   "version": "3.10"
  }
 },
 "nbformat": 4,
 "nbformat_minor": 5
}
